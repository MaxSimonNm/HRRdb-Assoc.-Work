{
 "cells": [
  {
   "cell_type": "code",
   "execution_count": null,
   "metadata": {},
   "outputs": [],
   "source": [
    "import pandas as pd\n",
    "import os\n",
    "from glob import glob\n",
    "import time\n",
    "\n",
    "start_time = time.time()\n",
    "\n",
    "dirpath = '/home/bioinfo/Nilesh/HRRdb_Samples/HRR_G+_VCFs_Elucidata/Germline/FE_merged/'\n",
    "savepath = '/home/bioinfo/Nilesh/HRRdb_Samples/HRR_G+_VCFs_Elucidata/Germline/G_HRR/'\n",
    "hrr_genes = pd.read_csv(\"/home/bioinfo/git/HRRdb/HRR_genes.txt\", sep='/t')\n",
    "chunk_size = 100  \n",
    "\n",
    "file_list = glob(os.path.join(dirpath, \"*.csv\"))\n",
    "chunked_list = [file_list[i:i+chunk_size] for i in range(0, len(file_list), chunk_size)]\n",
    "\n",
    "for keys, chunk in enumerate(chunked_list):\n",
    "    chunk_dir = os.path.join(savepath, str(keys))\n",
    "    os.mkdir(chunk_dir)\n",
    "    for file in chunk:\n",
    "        os.system(f'cp {file} {chunk_dir}')\n",
    "    \n",
    "for keys, chunk in enumerate(chunked_list):\n",
    "    chunk_dir = os.path.join(savepath, str(keys))\n",
    "    os.chdir(chunk_dir)\n",
    "    key_files = sorted(glob(\"*.csv\"))\n",
    "    samples = pd.concat((pd.read_csv(file, sep=',') for file in key_files), ignore_index=True)\n",
    "    hrr_df = pd.merge(samples, hrr_genes, how=\"inner\", left_on='Ref.Gene', right_on='HRR_Genes')\n",
    "    hrr_df.to_csv(f'{keys}_hrr_df.csv', index=False)\n",
    "    os.chdir(savepath)\n",
    "\n",
    "os.system(\"notify-send 'HRD File Processor' 'Process Finished'\")    \n",
    "os.system(\"telegram-send 'HRD File Processor finished'\")\n"
   ]
  }
 ],
 "metadata": {
  "kernelspec": {
   "display_name": "Python 3",
   "language": "python",
   "name": "python3"
  },
  "language_info": {
   "codemirror_mode": {
    "name": "ipython",
    "version": 3
   },
   "file_extension": ".py",
   "mimetype": "text/x-python",
   "name": "python",
   "nbconvert_exporter": "python",
   "pygments_lexer": "ipython3",
   "version": "3.10.6"
  },
  "orig_nbformat": 4,
  "vscode": {
   "interpreter": {
    "hash": "916dbcbb3f70747c44a77c7bcd40155683ae19c65e1c03b4aa3499c5328201f1"
   }
  }
 },
 "nbformat": 4,
 "nbformat_minor": 2
}
